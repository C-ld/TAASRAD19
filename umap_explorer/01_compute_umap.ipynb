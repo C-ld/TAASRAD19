{
 "cells": [
  {
   "cell_type": "code",
   "execution_count": null,
   "metadata": {},
   "outputs": [],
   "source": [
    "import numpy as np\n",
    "import umap\n",
    "import joblib\n",
    "import os\n",
    "\n",
    "from matplotlib import pyplot as plt\n",
    "import matplotlib\n",
    "\n",
    "%matplotlib inline"
   ]
  },
  {
   "cell_type": "code",
   "execution_count": 2,
   "metadata": {},
   "outputs": [],
   "source": [
    "seed = 42\n",
    "np.random.seed(seed)"
   ]
  },
  {
   "cell_type": "code",
   "execution_count": 3,
   "metadata": {},
   "outputs": [],
   "source": [
    "font = {\n",
    "    'size'   : 10\n",
    "}\n",
    "matplotlib.rc('font', **font)\n"
   ]
  },
  {
   "cell_type": "code",
   "execution_count": 4,
   "metadata": {},
   "outputs": [
    {
     "name": "stdout",
     "output_type": "stream",
     "text": [
      "USING float16 data\n"
     ]
    }
   ],
   "source": [
    "DATA_FOLDER = '/data1/scidata/meteotn_data_new'\n",
    "\n",
    "print(\"USING float16 data\")\n",
    "\n",
    "PLOT_FOLDER = '../../plots/umap_embeddings/'\n",
    "os.makedirs(PLOT_FOLDER, exist_ok=True)"
   ]
  },
  {
   "cell_type": "code",
   "execution_count": 5,
   "metadata": {},
   "outputs": [
    {
     "name": "stdout",
     "output_type": "stream",
     "text": [
      "(362233, 64, 64)\n"
     ]
    }
   ],
   "source": [
    "all_scans_npz = os.path.join(DATA_FOLDER, 'runs_64x64.npz')\n",
    "all_scans = np.load(all_scans_npz)\n",
    "\n",
    "all_scans = all_scans['arr_0']\n",
    "print(all_scans.shape)"
   ]
  },
  {
   "cell_type": "markdown",
   "metadata": {},
   "source": [
    "### Preprocess data"
   ]
  },
  {
   "cell_type": "code",
   "execution_count": 7,
   "metadata": {},
   "outputs": [],
   "source": [
    "# truncate to first decimal value\n",
    "# np.trunc only deals with the integer part of the number\n",
    "# multiplying by 10 solves the problem\n",
    "\n",
    "all_scans = np.trunc(all_scans * 10) / 10"
   ]
  },
  {
   "cell_type": "code",
   "execution_count": 8,
   "metadata": {},
   "outputs": [],
   "source": [
    "# normalize between 0 and 1\n",
    "all_scans = (all_scans - all_scans.min()) / (all_scans.max() - all_scans.min())\n",
    "\n",
    "assert all_scans.min() == 0\n",
    "assert all_scans.max() == 1"
   ]
  },
  {
   "cell_type": "markdown",
   "metadata": {},
   "source": [
    "### Split train and val data"
   ]
  },
  {
   "cell_type": "code",
   "execution_count": 9,
   "metadata": {},
   "outputs": [
    {
     "data": {
      "text/plain": [
       "((200000, 64, 64), (162233, 64, 64))"
      ]
     },
     "execution_count": 9,
     "metadata": {},
     "output_type": "execute_result"
    }
   ],
   "source": [
    "i = 200000\n",
    "train_data = all_scans[:i]\n",
    "val_data = all_scans[i:]\n",
    "\n",
    "train_data.shape, val_data.shape"
   ]
  },
  {
   "cell_type": "markdown",
   "metadata": {},
   "source": [
    "### UMAP parameters\n",
    "`n_components` = 5\n",
    "`n_neighbors` = 200\n",
    "`metric` = euclidean"
   ]
  },
  {
   "cell_type": "code",
   "execution_count": 10,
   "metadata": {},
   "outputs": [],
   "source": [
    "n_components = 5\n",
    "n_neighbors = 200\n",
    "metric = 'euclidean'\n",
    "\n",
    "min_dist = 0.1"
   ]
  },
  {
   "cell_type": "code",
   "execution_count": 11,
   "metadata": {},
   "outputs": [],
   "source": [
    "train_data_flatten = train_data.reshape((train_data.shape[0], -1))\n",
    "val_data_flatten = val_data.reshape((val_data.shape[0], -1))"
   ]
  },
  {
   "cell_type": "code",
   "execution_count": 12,
   "metadata": {},
   "outputs": [
    {
     "name": "stderr",
     "output_type": "stream",
     "text": [
      "/home/meteotn/.local/share/virtualenvs/meteo-tn-meteotn-bssZidOA/lib/python3.7/site-packages/numba/typed_passes.py:271: NumbaPerformanceWarning: \n",
      "The keyword argument 'parallel=True' was specified but no transformation for parallel execution was possible.\n",
      "\n",
      "To find out why, try turning on parallel diagnostics, see http://numba.pydata.org/numba-doc/latest/user/parallel.html#diagnostics for help.\n",
      "\n",
      "File \"../../../.local/share/virtualenvs/meteo-tn-meteotn-bssZidOA/lib/python3.7/site-packages/umap/rp_tree.py\", line 135:\n",
      "@numba.njit(fastmath=True, nogil=True, parallel=True)\n",
      "def euclidean_random_projection_split(data, indices, rng_state):\n",
      "^\n",
      "\n",
      "  state.func_ir.loc))\n",
      "/home/meteotn/.local/share/virtualenvs/meteo-tn-meteotn-bssZidOA/lib/python3.7/site-packages/umap/nndescent.py:92: NumbaPerformanceWarning: \n",
      "The keyword argument 'parallel=True' was specified but no transformation for parallel execution was possible.\n",
      "\n",
      "To find out why, try turning on parallel diagnostics, see http://numba.pydata.org/numba-doc/latest/user/parallel.html#diagnostics for help.\n",
      "\n",
      "File \"../../../.local/share/virtualenvs/meteo-tn-meteotn-bssZidOA/lib/python3.7/site-packages/umap/utils.py\", line 409:\n",
      "@numba.njit(parallel=True)\n",
      "def build_candidates(current_graph, n_vertices, n_neighbors, max_candidates, rng_state):\n",
      "^\n",
      "\n",
      "  current_graph, n_vertices, n_neighbors, max_candidates, rng_state\n",
      "/home/meteotn/.local/share/virtualenvs/meteo-tn-meteotn-bssZidOA/lib/python3.7/site-packages/numba/typed_passes.py:271: NumbaPerformanceWarning: \n",
      "The keyword argument 'parallel=True' was specified but no transformation for parallel execution was possible.\n",
      "\n",
      "To find out why, try turning on parallel diagnostics, see http://numba.pydata.org/numba-doc/latest/user/parallel.html#diagnostics for help.\n",
      "\n",
      "File \"../../../.local/share/virtualenvs/meteo-tn-meteotn-bssZidOA/lib/python3.7/site-packages/umap/nndescent.py\", line 47:\n",
      "    @numba.njit(parallel=True)\n",
      "    def nn_descent(\n",
      "    ^\n",
      "\n",
      "  state.func_ir.loc))\n"
     ]
    }
   ],
   "source": [
    "model = umap.UMAP(\n",
    "    n_components=n_components, n_neighbors=n_neighbors, min_dist=min_dist, metric=metric\n",
    ")\n",
    "train_emb = model.fit_transform(train_data_flatten)"
   ]
  },
  {
   "cell_type": "code",
   "execution_count": 13,
   "metadata": {},
   "outputs": [
    {
     "name": "stderr",
     "output_type": "stream",
     "text": [
      "/home/meteotn/.local/share/virtualenvs/meteo-tn-meteotn-bssZidOA/lib/python3.7/site-packages/numba/typed_passes.py:271: NumbaPerformanceWarning: \n",
      "The keyword argument 'parallel=True' was specified but no transformation for parallel execution was possible.\n",
      "\n",
      "To find out why, try turning on parallel diagnostics, see http://numba.pydata.org/numba-doc/latest/user/parallel.html#diagnostics for help.\n",
      "\n",
      "File \"../../../.local/share/virtualenvs/meteo-tn-meteotn-bssZidOA/lib/python3.7/site-packages/umap/nndescent.py\", line 124:\n",
      "    @numba.njit(parallel=True)\n",
      "    def init_from_random(n_neighbors, data, query_points, heap, rng_state):\n",
      "    ^\n",
      "\n",
      "  state.func_ir.loc))\n",
      "/home/meteotn/.local/share/virtualenvs/meteo-tn-meteotn-bssZidOA/lib/python3.7/site-packages/numba/typed_passes.py:271: NumbaPerformanceWarning: \n",
      "The keyword argument 'parallel=True' was specified but no transformation for parallel execution was possible.\n",
      "\n",
      "To find out why, try turning on parallel diagnostics, see http://numba.pydata.org/numba-doc/latest/user/parallel.html#diagnostics for help.\n",
      "\n",
      "File \"../../../.local/share/virtualenvs/meteo-tn-meteotn-bssZidOA/lib/python3.7/site-packages/umap/nndescent.py\", line 135:\n",
      "    @numba.njit(parallel=True)\n",
      "    def init_from_tree(tree, data, query_points, heap, rng_state):\n",
      "    ^\n",
      "\n",
      "  state.func_ir.loc))\n"
     ]
    }
   ],
   "source": [
    "val_emb = model.transform(val_data_flatten)"
   ]
  },
  {
   "cell_type": "markdown",
   "metadata": {},
   "source": [
    "### Plot UMAP embeddings for train and val"
   ]
  },
  {
   "cell_type": "code",
   "execution_count": 14,
   "metadata": {},
   "outputs": [],
   "source": [
    "def plot_umap_mosaic(embeddings, war, idx=None, title='', umap_c=5):\n",
    "    if idx is None:\n",
    "        idx = np.arange(len(embeddings))\n",
    "        \n",
    "    plt.figure(figsize=(10, 10))\n",
    "    \n",
    "    if title:\n",
    "        plt.suptitle(title, fontsize=20)\n",
    "    \n",
    "    i = 1\n",
    "    r = 1\n",
    "    \n",
    "    for f in range(umap_c):\n",
    "        for s in range(f + 1, umap_c):\n",
    "            plt.subplot(umap_c - 1, umap_c - 1, i)\n",
    "\n",
    "            plt.title(f\"{f} vs {s}\")\n",
    "\n",
    "            plt.scatter(\n",
    "                embeddings[idx, f],\n",
    "                embeddings[idx, s],\n",
    "                c=war[idx],\n",
    "                cmap='Spectral_r',\n",
    "                marker='.',\n",
    "                s=1,\n",
    "                alpha=.1,\n",
    "            )\n",
    "            \n",
    "#             plt.xlabel('')\n",
    "#             plt.ylabel('')\n",
    "\n",
    "#             plt.xticks([])\n",
    "#             plt.yticks([])\n",
    "\n",
    "            plt.gca().set_aspect('equal', 'datalim')\n",
    "    \n",
    "            i += 1\n",
    "\n",
    "        i = r * (umap_c - 1) + 1\n",
    "        r += 1\n"
   ]
  },
  {
   "cell_type": "code",
   "execution_count": 15,
   "metadata": {},
   "outputs": [],
   "source": [
    "threshold = 0.14"
   ]
  },
  {
   "cell_type": "code",
   "execution_count": 16,
   "metadata": {},
   "outputs": [
    {
     "name": "stdout",
     "output_type": "stream",
     "text": [
      "0.0 0.7385784077858268\n"
     ]
    }
   ],
   "source": [
    "train_war = np.sum(train_data > threshold, axis=(1, 2)) / (32 * 32 * np.pi)\n",
    "print(train_war.min(), train_war.max())\n",
    "\n",
    "train_idx = np.argsort(train_war)\n",
    "\n",
    "plot_umap_mosaic(train_emb, train_war, train_idx, title='UMAP train (c=5, n=200)')\n",
    "\n",
    "outfile = os.path.join(PLOT_FOLDER, \"umap_train_64x64.png\")\n",
    "\n",
    "plt.savefig(\n",
    "    outfile,\n",
    "    dpi=300,\n",
    "    bbox_inches='tight'\n",
    ")\n",
    "plt.close()\n",
    "\n"
   ]
  },
  {
   "cell_type": "markdown",
   "metadata": {},
   "source": [
    "# Val"
   ]
  },
  {
   "cell_type": "code",
   "execution_count": 17,
   "metadata": {},
   "outputs": [],
   "source": [
    "val_war = np.sum(val_data > threshold, axis=(1, 2)) / (32 * 32 * np.pi)\n",
    "val_war.min(), val_war.max()\n",
    "\n",
    "val_idx = np.argsort(val_war)\n",
    "\n",
    "plot_umap_mosaic(val_emb, val_war, val_idx, title='UMAP val (c=5, n=200)')\n",
    "\n",
    "\n",
    "outfile = os.path.join(PLOT_FOLDER, \"umap_val_64x64.png\")\n",
    "\n",
    "plt.savefig(\n",
    "    outfile,\n",
    "    dpi=300,\n",
    "    bbox_inches='tight'\n",
    ")\n",
    "plt.close()\n",
    "\n",
    "\n",
    "\n"
   ]
  },
  {
   "cell_type": "markdown",
   "metadata": {},
   "source": [
    "### Save UMAP model and embeddings"
   ]
  },
  {
   "cell_type": "code",
   "execution_count": 18,
   "metadata": {},
   "outputs": [
    {
     "data": {
      "text/plain": [
       "['/data1/scidata/meteotn_data_new/umap.joblib.gz']"
      ]
     },
     "execution_count": 18,
     "metadata": {},
     "output_type": "execute_result"
    }
   ],
   "source": [
    "fname = os.path.join(DATA_FOLDER, \"umap.joblib.gz\")\n",
    "joblib.dump(model, fname, compress=9)\n"
   ]
  },
  {
   "cell_type": "code",
   "execution_count": 19,
   "metadata": {},
   "outputs": [],
   "source": [
    "outfile_path = os.path.join(DATA_FOLDER, \"train_data.npz\")\n",
    "with open(outfile_path, \"wb\") as outfile:\n",
    "    np.savez_compressed(outfile, train_data)\n",
    "    \n",
    "outfile_path = os.path.join(DATA_FOLDER, \"val_data.npz\")\n",
    "with open(outfile_path, \"wb\") as outfile:\n",
    "    np.savez_compressed(outfile, val_data)\n"
   ]
  },
  {
   "cell_type": "code",
   "execution_count": 20,
   "metadata": {},
   "outputs": [],
   "source": [
    "outfile_path = os.path.join(DATA_FOLDER, \"train_emb.npz\")\n",
    "with open(outfile_path, \"wb\") as outfile:\n",
    "    np.savez_compressed(outfile, train_emb)\n",
    "    \n",
    "outfile_path = os.path.join(DATA_FOLDER, \"val_emb.npz\")\n",
    "with open(outfile_path, \"wb\") as outfile:\n",
    "    np.savez_compressed(outfile, val_emb)\n"
   ]
  },
  {
   "cell_type": "code",
   "execution_count": null,
   "metadata": {},
   "outputs": [],
   "source": []
  }
 ],
 "metadata": {
  "kernelspec": {
   "display_name": "Python 3",
   "language": "python",
   "name": "python3"
  },
  "language_info": {
   "codemirror_mode": {
    "name": "ipython",
    "version": 3
   },
   "file_extension": ".py",
   "mimetype": "text/x-python",
   "name": "python",
   "nbconvert_exporter": "python",
   "pygments_lexer": "ipython3",
   "version": "3.6.9"
  }
 },
 "nbformat": 4,
 "nbformat_minor": 4
}
