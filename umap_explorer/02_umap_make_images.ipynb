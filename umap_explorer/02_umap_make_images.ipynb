{
 "cells": [
  {
   "cell_type": "code",
   "execution_count": 1,
   "metadata": {},
   "outputs": [],
   "source": [
    "import json\n",
    "import math\n",
    "import os\n",
    "from datetime import timedelta  \n",
    "\n",
    "import numpy as np\n",
    "import pandas as pd\n",
    "import PIL\n",
    "from PIL import Image"
   ]
  },
  {
   "cell_type": "markdown",
   "metadata": {},
   "source": [
    "### Load Data"
   ]
  },
  {
   "cell_type": "code",
   "execution_count": 2,
   "metadata": {},
   "outputs": [],
   "source": [
    "radar_folder = '/data1/scidata/meteotn_data_new'\n",
    "data_folder = './public'\n",
    "os.makedirs(data_folder, exist_ok=True)"
   ]
  },
  {
   "cell_type": "code",
   "execution_count": 3,
   "metadata": {},
   "outputs": [],
   "source": [
    "img_size  = 64"
   ]
  },
  {
   "cell_type": "code",
   "execution_count": 4,
   "metadata": {},
   "outputs": [
    {
     "data": {
      "text/plain": [
       "(200000, 64, 64)"
      ]
     },
     "execution_count": 4,
     "metadata": {},
     "output_type": "execute_result"
    }
   ],
   "source": [
    "# train and val runs are normalized between 0 and 1\n",
    "images = os.path.join(radar_folder, 'train_data.npz')\n",
    "# images = os.path.join(radar_folder, 'val_data.npz')\n",
    "\n",
    "images = np.load(images)['arr_0']\n",
    "images = (images - images.min()) / (images.max() - images.min())\n",
    "images = np.round(images * 255).astype(np.uint8)\n",
    "images.shape"
   ]
  },
  {
   "cell_type": "code",
   "execution_count": 5,
   "metadata": {},
   "outputs": [],
   "source": [
    "images = images[150000:200000]"
   ]
  },
  {
   "cell_type": "code",
   "execution_count": 6,
   "metadata": {},
   "outputs": [
    {
     "data": {
      "text/plain": [
       "(50000, 64, 64)"
      ]
     },
     "execution_count": 6,
     "metadata": {},
     "output_type": "execute_result"
    }
   ],
   "source": [
    "images.shape"
   ]
  },
  {
   "cell_type": "code",
   "execution_count": 7,
   "metadata": {},
   "outputs": [],
   "source": [
    "ss_width = 2048"
   ]
  },
  {
   "cell_type": "code",
   "execution_count": 8,
   "metadata": {},
   "outputs": [],
   "source": [
    "image_height = img_size"
   ]
  },
  {
   "cell_type": "code",
   "execution_count": 9,
   "metadata": {},
   "outputs": [],
   "source": [
    "image_width = img_size"
   ]
  },
  {
   "cell_type": "markdown",
   "metadata": {},
   "source": [
    "### Generate tile"
   ]
  },
  {
   "cell_type": "code",
   "execution_count": 10,
   "metadata": {},
   "outputs": [
    {
     "data": {
      "text/plain": [
       "32"
      ]
     },
     "execution_count": 10,
     "metadata": {},
     "output_type": "execute_result"
    }
   ],
   "source": [
    "columns = math.floor(ss_width / image_width)\n",
    "columns"
   ]
  },
  {
   "cell_type": "code",
   "execution_count": 11,
   "metadata": {},
   "outputs": [],
   "source": [
    "all_rows = []\n",
    "for i in range(len(images)):\n",
    "    if i % columns == 0:\n",
    "        all_rows.append([])\n",
    "    current = all_rows[len(all_rows) - 1]\n",
    "    current.append(images[i])"
   ]
  },
  {
   "cell_type": "code",
   "execution_count": 12,
   "metadata": {
    "scrolled": true
   },
   "outputs": [
    {
     "data": {
      "text/plain": [
       "1563"
      ]
     },
     "execution_count": 12,
     "metadata": {},
     "output_type": "execute_result"
    }
   ],
   "source": [
    "len(all_rows)"
   ]
  },
  {
   "cell_type": "code",
   "execution_count": 13,
   "metadata": {},
   "outputs": [],
   "source": [
    "ranges = []\n",
    "for i in range(math.ceil(len(all_rows) / columns)):\n",
    "    start = i * columns\n",
    "    end = (i + 1) * columns\n",
    "    if i == math.ceil(len(all_rows) / columns) - 1:\n",
    "        end = len(all_rows)\n",
    "    ranged = range(start, end)\n",
    "    ranges.append(ranged)"
   ]
  },
  {
   "cell_type": "code",
   "execution_count": 14,
   "metadata": {},
   "outputs": [
    {
     "data": {
      "text/plain": [
       "(49, 32)"
      ]
     },
     "execution_count": 14,
     "metadata": {},
     "output_type": "execute_result"
    }
   ],
   "source": [
    "len(ranges), columns"
   ]
  },
  {
   "cell_type": "code",
   "execution_count": 15,
   "metadata": {},
   "outputs": [
    {
     "data": {
      "text/plain": [
       "([range(0, 32), range(32, 64), range(64, 96), range(96, 128), range(128, 160)],\n",
       " [range(1408, 1440),\n",
       "  range(1440, 1472),\n",
       "  range(1472, 1504),\n",
       "  range(1504, 1536),\n",
       "  range(1536, 1563)])"
      ]
     },
     "execution_count": 15,
     "metadata": {},
     "output_type": "execute_result"
    }
   ],
   "source": [
    "ranges[:5], ranges[-5:]"
   ]
  },
  {
   "cell_type": "code",
   "execution_count": 16,
   "metadata": {
    "scrolled": true
   },
   "outputs": [
    {
     "data": {
      "text/plain": [
       "[]"
      ]
     },
     "execution_count": 16,
     "metadata": {},
     "output_type": "execute_result"
    }
   ],
   "source": [
    "leftover = ss_width % columns\n",
    "row_padding = []\n",
    "for i in range(leftover):\n",
    "    row_padding.append(0)\n",
    "row_padding"
   ]
  },
  {
   "cell_type": "code",
   "execution_count": 17,
   "metadata": {
    "scrolled": true
   },
   "outputs": [
    {
     "data": {
      "text/plain": [
       "0"
      ]
     },
     "execution_count": 17,
     "metadata": {},
     "output_type": "execute_result"
    }
   ],
   "source": [
    "chunk_padding = []\n",
    "for i in range(2048 - columns * img_size):\n",
    "    chunk_padding.append([])\n",
    "    current = chunk_padding[len(chunk_padding) - 1]\n",
    "    for p in range(ss_width):\n",
    "        current.append(0)\n",
    "len(chunk_padding)"
   ]
  },
  {
   "cell_type": "markdown",
   "metadata": {},
   "source": [
    "### Split in multiple tiles"
   ]
  },
  {
   "cell_type": "code",
   "execution_count": 18,
   "metadata": {},
   "outputs": [
    {
     "data": {
      "text/plain": [
       "32"
      ]
     },
     "execution_count": 18,
     "metadata": {},
     "output_type": "execute_result"
    }
   ],
   "source": [
    "len(all_rows[0])"
   ]
  },
  {
   "cell_type": "code",
   "execution_count": 19,
   "metadata": {},
   "outputs": [
    {
     "data": {
      "text/plain": [
       "0"
      ]
     },
     "execution_count": 19,
     "metadata": {},
     "output_type": "execute_result"
    }
   ],
   "source": [
    "ss_width - len(ranges[0]) * img_size"
   ]
  },
  {
   "cell_type": "code",
   "execution_count": 20,
   "metadata": {},
   "outputs": [
    {
     "data": {
      "text/plain": [
       "64"
      ]
     },
     "execution_count": 20,
     "metadata": {},
     "output_type": "execute_result"
    }
   ],
   "source": [
    "img_size"
   ]
  },
  {
   "cell_type": "code",
   "execution_count": 21,
   "metadata": {},
   "outputs": [],
   "source": [
    "os.makedirs(os.path.join(data_folder, 'tiles'), exist_ok=True)"
   ]
  },
  {
   "cell_type": "code",
   "execution_count": 22,
   "metadata": {
    "scrolled": true
   },
   "outputs": [],
   "source": [
    "for range_counter in range(len(ranges)):\n",
    "    full_combined = []\n",
    "    for r in ranges[range_counter]:\n",
    "        row_digits = all_rows[r]\n",
    "        reshaped = []\n",
    "        for i in range(len(row_digits)):\n",
    "            digit = row_digits[i]\n",
    "#             digit.resize((28,28))\n",
    "            reshaped.append(digit)\n",
    "        combined = []\n",
    "        for i in range(image_height):\n",
    "            combined.append([])\n",
    "            current = combined[len(combined) - 1]\n",
    "            for j in range(len(row_digits)):\n",
    "                current.extend(reshaped[j][i])\n",
    "            padding_needed = ss_width - len(row_digits) * image_width\n",
    "            for p in range(padding_needed):\n",
    "                current.append(0)\n",
    "        full_combined.extend(combined)\n",
    "    row_padding_needed = ss_width - len(full_combined)\n",
    "    wtf = row_padding_needed\n",
    "    for rp in range(row_padding_needed):\n",
    "        current = []\n",
    "        for p in range(ss_width):\n",
    "            current.append(0)\n",
    "        full_combined.append(current)\n",
    "    test = full_combined\n",
    "    rgba_combined = []\n",
    "    for row in full_combined:\n",
    "        rgba_combined.append([])\n",
    "        current = rgba_combined[len(rgba_combined) - 1]\n",
    "        for item in row:\n",
    "            current.append((item, item, item, 255))\n",
    "    rgba_combined = np.asarray(rgba_combined)\n",
    "    rgba_combined = rgba_combined.astype(np.uint8)\n",
    "    im = Image.fromarray(np.asarray(rgba_combined), mode='RGBA')\n",
    "    name = f'meteotn_tile_solid_{range_counter}.png'\n",
    "    name = os.path.join(data_folder, 'tiles',  name)\n",
    "    im.save(name)"
   ]
  },
  {
   "cell_type": "markdown",
   "metadata": {},
   "source": [
    "### Save embedding coordinates"
   ]
  },
  {
   "cell_type": "code",
   "execution_count": 23,
   "metadata": {},
   "outputs": [
    {
     "data": {
      "text/plain": [
       "(50000, 5)"
      ]
     },
     "execution_count": 23,
     "metadata": {},
     "output_type": "execute_result"
    }
   ],
   "source": [
    "umap_train_emb = os.path.join(radar_folder, 'train_emb.npz')\n",
    "umap_train_emb = np.load(umap_train_emb)['arr_0']\n",
    "\n",
    "umap_train_emb = umap_train_emb[150000:200000]\n",
    "\n",
    "umap_train_emb.shape"
   ]
  },
  {
   "cell_type": "code",
   "execution_count": 24,
   "metadata": {},
   "outputs": [],
   "source": [
    "dims = ((0, 2), (0, 1), (1, 2))\n",
    "\n",
    "for dim0, dim1 in dims:\n",
    "    outfile = f'umap_dims_{dim0}_{dim1}.json'\n",
    "    with open(os.path.join(data_folder, outfile), 'w') as outfile:\n",
    "        json.dump(umap_train_emb[:, (dim0, dim1)].tolist(), outfile)"
   ]
  },
  {
   "cell_type": "markdown",
   "metadata": {},
   "source": [
    "### Load color ramp"
   ]
  },
  {
   "cell_type": "code",
   "execution_count": 26,
   "metadata": {},
   "outputs": [
    {
     "data": {
      "image/png": "[encoded data removed]",
      "text/plain": [
       "<PIL.PngImagePlugin.PngImageFile image mode=RGBA size=256x1 at 0x7F7D85612E90>"
      ]
     },
     "execution_count": 26,
     "metadata": {},
     "output_type": "execute_result"
    }
   ],
   "source": [
    "color_ramp = Image.open(os.path.join(data_folder, 'YlGnBu.png'))\n",
    "color_ramp"
   ]
  },
  {
   "cell_type": "code",
   "execution_count": 27,
   "metadata": {},
   "outputs": [],
   "source": [
    "with open(os.path.join(data_folder, 'color_ramp.json'), 'w') as outfile:\n",
    "    json.dump(np.array(color_ramp)[0, :, :-1].tolist(), outfile)"
   ]
  },
  {
   "cell_type": "markdown",
   "metadata": {},
   "source": [
    "### Calculate Wet Area Ratio"
   ]
  },
  {
   "cell_type": "code",
   "execution_count": 28,
   "metadata": {},
   "outputs": [
    {
     "data": {
      "text/plain": [
       "(0.0, 0.17306545813752486)"
      ]
     },
     "execution_count": 28,
     "metadata": {},
     "output_type": "execute_result"
    }
   ],
   "source": [
    "images_war = np.sum(images > 36, axis=(1, 2)) / (64 * 64 * np.pi)\n",
    "images_war.min(), images_war.max()"
   ]
  },
  {
   "cell_type": "code",
   "execution_count": 29,
   "metadata": {},
   "outputs": [],
   "source": [
    "images_war = ((images_war / images_war.max()) * 255).round()"
   ]
  },
  {
   "cell_type": "code",
   "execution_count": 30,
   "metadata": {},
   "outputs": [],
   "source": [
    "with open(os.path.join(data_folder, 'umap_train_war.json'), 'w') as outfile:\n",
    "    json.dump(images_war.tolist(), outfile)"
   ]
  },
  {
   "cell_type": "markdown",
   "metadata": {},
   "source": [
    "### Generate dates for set"
   ]
  },
  {
   "cell_type": "code",
   "execution_count": 31,
   "metadata": {},
   "outputs": [
    {
     "data": {
      "text/plain": [
       "['2010-11-01 23:30:00',\n",
       " '2010-11-01 23:35:00',\n",
       " '2010-11-01 23:40:00',\n",
       " '2010-11-01 23:45:00',\n",
       " '2010-11-01 23:50:00',\n",
       " '2010-11-01 23:55:00',\n",
       " '2010-11-02 00:00:00',\n",
       " '2010-11-02 00:05:00',\n",
       " '2010-11-02 00:10:00',\n",
       " '2010-11-02 00:15:00']"
      ]
     },
     "execution_count": 31,
     "metadata": {},
     "output_type": "execute_result"
    }
   ],
   "source": [
    "image_dates = []\n",
    "\n",
    "metadata = pd.read_csv('/data1/scidata/meteotn_data/run_metadata.csv', index_col=0)\n",
    "metadata['date'] = pd.to_datetime(metadata.start_datetime)\n",
    "\n",
    "for _, i in metadata.iterrows():\n",
    "    for j in range(i.run_length):\n",
    "        d = str(i.date + timedelta(minutes=(5 * j)))\n",
    "        image_dates.append(d)\n",
    "            \n",
    "image_dates[280:290]"
   ]
  },
  {
   "cell_type": "code",
   "execution_count": 32,
   "metadata": {},
   "outputs": [
    {
     "name": "stdout",
     "output_type": "stream",
     "text": [
      "50000\n"
     ]
    }
   ],
   "source": [
    "image_dates = image_dates[150000:200000]\n",
    "print(len(image_dates))\n",
    "\n",
    "with open(os.path.join(data_folder, 'umap_train_dates.json'), 'w') as outfile:\n",
    "    json.dump(image_dates, outfile)"
   ]
  },
  {
   "cell_type": "code",
   "execution_count": null,
   "metadata": {},
   "outputs": [],
   "source": []
  }
 ],
 "metadata": {
  "kernelspec": {
   "display_name": "Python 3",
   "language": "python",
   "name": "python3"
  },
  "language_info": {
   "codemirror_mode": {
    "name": "ipython",
    "version": 3
   },
   "file_extension": ".py",
   "mimetype": "text/x-python",
   "name": "python",
   "nbconvert_exporter": "python",
   "pygments_lexer": "ipython3",
   "version": "3.7.5"
  }
 },
 "nbformat": 4,
 "nbformat_minor": 4
}
